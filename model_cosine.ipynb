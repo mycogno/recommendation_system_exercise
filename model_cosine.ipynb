{
 "cells": [
  {
   "cell_type": "code",
   "execution_count": 1,
   "metadata": {},
   "outputs": [],
   "source": [
    "import pandas as pd\n",
    "import numpy as np"
   ]
  },
  {
   "cell_type": "markdown",
   "metadata": {},
   "source": [
    "## dataframe 정리"
   ]
  },
  {
   "cell_type": "code",
   "execution_count": 212,
   "metadata": {},
   "outputs": [],
   "source": [
    "# csv파일들 불러오기\n",
    "sd_list = []\n",
    "for i in range(51):\n",
    "    sd_list.append(pd.read_csv(f\"song_info/song_data_{i}.csv\"))"
   ]
  },
  {
   "cell_type": "code",
   "execution_count": 213,
   "metadata": {},
   "outputs": [],
   "source": [
    "# 열 이름 재설정\n",
    "for sd in sd_list:\n",
    "    sd.columns = [\"lyrics\", \"song_name\", \"artist\", \"etc\"]"
   ]
  },
  {
   "cell_type": "code",
   "execution_count": 214,
   "metadata": {},
   "outputs": [],
   "source": [
    "# Dataframe 하나로 합치기\n",
    "df = pd.concat(sd_list, ignore_index = True)"
   ]
  },
  {
   "cell_type": "code",
   "execution_count": null,
   "metadata": {},
   "outputs": [],
   "source": [
    "# etc 항목 정리\n",
    "df[\"album\"] = np.nan\n",
    "df[\"date\"] = np.nan\n",
    "df[\"genre\"] = np.nan\n",
    "for i in range(len(df)):\n",
    "    df[\"album\"][i] = df[\"etc\"][i].split(\"\\r\\n\")[1]\n",
    "    df[\"date\"][i] = df[\"etc\"][i].split(\"\\r\\n\")[3]\n",
    "    df[\"genre\"][i] = df[\"etc\"][i].split(\"\\r\\n\")[5]"
   ]
  },
  {
   "cell_type": "code",
   "execution_count": 221,
   "metadata": {},
   "outputs": [],
   "source": [
    "# etc 열 제거\n",
    "df = df.drop(columns = [\"etc\"])"
   ]
  },
  {
   "cell_type": "code",
   "execution_count": 229,
   "metadata": {},
   "outputs": [],
   "source": [
    "# 가사 없는 곡 제거\n",
    "no_lyric_idx = df[df[\"lyrics\"].str.strip() == \"가사가 없는 곡입니다\"].index\n",
    "df = df.drop(index = no_lyric_idx)"
   ]
  },
  {
   "cell_type": "code",
   "execution_count": 233,
   "metadata": {},
   "outputs": [],
   "source": [
    "# 인덱스 재설정\n",
    "df = df.reset_index()"
   ]
  },
  {
   "cell_type": "code",
   "execution_count": 236,
   "metadata": {},
   "outputs": [],
   "source": [
    "df = df.drop(columns = [\"index\"])"
   ]
  },
  {
   "cell_type": "code",
   "execution_count": 234,
   "metadata": {},
   "outputs": [
    {
     "data": {
      "text/html": [
       "<div>\n",
       "<style scoped>\n",
       "    .dataframe tbody tr th:only-of-type {\n",
       "        vertical-align: middle;\n",
       "    }\n",
       "\n",
       "    .dataframe tbody tr th {\n",
       "        vertical-align: top;\n",
       "    }\n",
       "\n",
       "    .dataframe thead th {\n",
       "        text-align: right;\n",
       "    }\n",
       "</style>\n",
       "<table border=\"1\" class=\"dataframe\">\n",
       "  <thead>\n",
       "    <tr style=\"text-align: right;\">\n",
       "      <th></th>\n",
       "      <th>index</th>\n",
       "      <th>lyrics</th>\n",
       "      <th>song_name</th>\n",
       "      <th>artist</th>\n",
       "      <th>album</th>\n",
       "      <th>date</th>\n",
       "      <th>genre</th>\n",
       "    </tr>\n",
       "  </thead>\n",
       "  <tbody>\n",
       "    <tr>\n",
       "      <th>0</th>\n",
       "      <td>0</td>\n",
       "      <td>I don’t know why but I wanna goIt’s in my bloo...</td>\n",
       "      <td>Blood Stream</td>\n",
       "      <td>YESEO (예서)</td>\n",
       "      <td>Blood Stream</td>\n",
       "      <td>2020.08.17</td>\n",
       "      <td>일렉트로니카</td>\n",
       "    </tr>\n",
       "    <tr>\n",
       "      <th>1</th>\n",
       "      <td>1</td>\n",
       "      <td>장난스럽게 난너에게 다가갔지만너에게 다가갔지만넌 그게 싫었던 거야장난스럽게 난너에게...</td>\n",
       "      <td>장난</td>\n",
       "      <td>디너프 (DNEIRF)</td>\n",
       "      <td>알파카의 하루</td>\n",
       "      <td>2020.08.17</td>\n",
       "      <td>랩/힙합, 인디음악</td>\n",
       "    </tr>\n",
       "    <tr>\n",
       "      <th>2</th>\n",
       "      <td>2</td>\n",
       "      <td>sometimes i just wanna be away떠나고 파 어디론가로해가 뜨거...</td>\n",
       "      <td>Get Away (Prod. by Minit) (Feat. 김승민)</td>\n",
       "      <td>Holynn</td>\n",
       "      <td>Get Away</td>\n",
       "      <td>2020.08.17</td>\n",
       "      <td>R&amp;B/Soul</td>\n",
       "    </tr>\n",
       "    <tr>\n",
       "      <th>3</th>\n",
       "      <td>3</td>\n",
       "      <td>I woke up in the morning yeahI’m searching for...</td>\n",
       "      <td>Kid Rock</td>\n",
       "      <td>팔로알토 (Paloalto), 저드 (jerd), 레디 (Reddy), 수비 (So...</td>\n",
       "      <td>Legacy</td>\n",
       "      <td>2020.08.16</td>\n",
       "      <td>랩/힙합</td>\n",
       "    </tr>\n",
       "    <tr>\n",
       "      <th>4</th>\n",
       "      <td>4</td>\n",
       "      <td>꼬불꼬불 꼬여진 길이복잡하고 어지러워도재미도 있을 거야 신날 거야더 힘차게 걸어보자...</td>\n",
       "      <td>SUPADUPA (천천히 해봐)</td>\n",
       "      <td>오마이걸</td>\n",
       "      <td>뽀마이걸</td>\n",
       "      <td>2020.08.16</td>\n",
       "      <td>댄스</td>\n",
       "    </tr>\n",
       "    <tr>\n",
       "      <th>...</th>\n",
       "      <td>...</td>\n",
       "      <td>...</td>\n",
       "      <td>...</td>\n",
       "      <td>...</td>\n",
       "      <td>...</td>\n",
       "      <td>...</td>\n",
       "      <td>...</td>\n",
       "    </tr>\n",
       "    <tr>\n",
       "      <th>2467</th>\n",
       "      <td>2487</td>\n",
       "      <td>여기 만족하기엔 아직 목 말라너네랑 같이 하긴 내가 너무 빨라올해 득점왕은 나야 난...</td>\n",
       "      <td>RUNNING! (Feat. kitsyojii)</td>\n",
       "      <td>SUL (에슈엘)</td>\n",
       "      <td>Lazy Tape</td>\n",
       "      <td>2020.04.29</td>\n",
       "      <td>랩/힙합, 인디음악</td>\n",
       "    </tr>\n",
       "    <tr>\n",
       "      <th>2468</th>\n",
       "      <td>2488</td>\n",
       "      <td>지루한 일상 속에 조금씩 지쳐갈 때  한줄기 햇살 창밖에 비쳐오듯 그 조그만 설레임...</td>\n",
       "      <td>설레임</td>\n",
       "      <td>허지영</td>\n",
       "      <td>설레임</td>\n",
       "      <td>2020.04.29</td>\n",
       "      <td>인디음악, 포크/블루스</td>\n",
       "    </tr>\n",
       "    <tr>\n",
       "      <th>2469</th>\n",
       "      <td>2489</td>\n",
       "      <td>또 몇 시간째 네가 올 것만 같은 느낌에 멍하니 서있네 고요히 가라앉은 이 세계는 ...</td>\n",
       "      <td>아무것도 아닌 게 되는 게</td>\n",
       "      <td>MISA (미사)</td>\n",
       "      <td>아무것도 아닌 게 되는 게</td>\n",
       "      <td>2020.04.29</td>\n",
       "      <td>R&amp;B/Soul, 인디음악</td>\n",
       "    </tr>\n",
       "    <tr>\n",
       "      <th>2470</th>\n",
       "      <td>2490</td>\n",
       "      <td>아무런 말 하지 마우린 서롤 아니까감추려고 하지 마얼어붙어 버린너와 나의 맘을 조립...</td>\n",
       "      <td>믿음</td>\n",
       "      <td>짱유 (JJANGYOU)</td>\n",
       "      <td>파도</td>\n",
       "      <td>2020.04.28</td>\n",
       "      <td>랩/힙합</td>\n",
       "    </tr>\n",
       "    <tr>\n",
       "      <th>2471</th>\n",
       "      <td>2491</td>\n",
       "      <td>영원한 건 없다던 니 말그건 거짓말이야아직도 난 영원히 너를사랑하고 있으니까애정했던...</td>\n",
       "      <td>거짓말이야</td>\n",
       "      <td>임팩트</td>\n",
       "      <td>L.L</td>\n",
       "      <td>2020.04.28</td>\n",
       "      <td>댄스</td>\n",
       "    </tr>\n",
       "  </tbody>\n",
       "</table>\n",
       "<p>2472 rows × 7 columns</p>\n",
       "</div>"
      ],
      "text/plain": [
       "      index                                             lyrics  \\\n",
       "0         0  I don’t know why but I wanna goIt’s in my bloo...   \n",
       "1         1  장난스럽게 난너에게 다가갔지만너에게 다가갔지만넌 그게 싫었던 거야장난스럽게 난너에게...   \n",
       "2         2  sometimes i just wanna be away떠나고 파 어디론가로해가 뜨거...   \n",
       "3         3  I woke up in the morning yeahI’m searching for...   \n",
       "4         4  꼬불꼬불 꼬여진 길이복잡하고 어지러워도재미도 있을 거야 신날 거야더 힘차게 걸어보자...   \n",
       "...     ...                                                ...   \n",
       "2467   2487  여기 만족하기엔 아직 목 말라너네랑 같이 하긴 내가 너무 빨라올해 득점왕은 나야 난...   \n",
       "2468   2488  지루한 일상 속에 조금씩 지쳐갈 때  한줄기 햇살 창밖에 비쳐오듯 그 조그만 설레임...   \n",
       "2469   2489  또 몇 시간째 네가 올 것만 같은 느낌에 멍하니 서있네 고요히 가라앉은 이 세계는 ...   \n",
       "2470   2490  아무런 말 하지 마우린 서롤 아니까감추려고 하지 마얼어붙어 버린너와 나의 맘을 조립...   \n",
       "2471   2491  영원한 건 없다던 니 말그건 거짓말이야아직도 난 영원히 너를사랑하고 있으니까애정했던...   \n",
       "\n",
       "                                  song_name  \\\n",
       "0                              Blood Stream   \n",
       "1                                        장난   \n",
       "2     Get Away (Prod. by Minit) (Feat. 김승민)   \n",
       "3                                  Kid Rock   \n",
       "4                         SUPADUPA (천천히 해봐)   \n",
       "...                                     ...   \n",
       "2467             RUNNING! (Feat. kitsyojii)   \n",
       "2468                                    설레임   \n",
       "2469                         아무것도 아닌 게 되는 게   \n",
       "2470                                     믿음   \n",
       "2471                                  거짓말이야   \n",
       "\n",
       "                                                 artist           album  \\\n",
       "0                                            YESEO (예서)    Blood Stream   \n",
       "1                                          디너프 (DNEIRF)         알파카의 하루   \n",
       "2                                                Holynn        Get Away   \n",
       "3     팔로알토 (Paloalto), 저드 (jerd), 레디 (Reddy), 수비 (So...          Legacy   \n",
       "4                                                  오마이걸            뽀마이걸   \n",
       "...                                                 ...             ...   \n",
       "2467                                          SUL (에슈엘)       Lazy Tape   \n",
       "2468                                                허지영             설레임   \n",
       "2469                                          MISA (미사)  아무것도 아닌 게 되는 게   \n",
       "2470                                      짱유 (JJANGYOU)              파도   \n",
       "2471                                                임팩트             L.L   \n",
       "\n",
       "            date           genre  \n",
       "0     2020.08.17          일렉트로니카  \n",
       "1     2020.08.17      랩/힙합, 인디음악  \n",
       "2     2020.08.17        R&B/Soul  \n",
       "3     2020.08.16            랩/힙합  \n",
       "4     2020.08.16              댄스  \n",
       "...          ...             ...  \n",
       "2467  2020.04.29      랩/힙합, 인디음악  \n",
       "2468  2020.04.29    인디음악, 포크/블루스  \n",
       "2469  2020.04.29  R&B/Soul, 인디음악  \n",
       "2470  2020.04.28            랩/힙합  \n",
       "2471  2020.04.28              댄스  \n",
       "\n",
       "[2472 rows x 7 columns]"
      ]
     },
     "execution_count": 234,
     "metadata": {},
     "output_type": "execute_result"
    }
   ],
   "source": [
    "df"
   ]
  },
  {
   "cell_type": "markdown",
   "metadata": {},
   "source": [
    "## 전처리"
   ]
  },
  {
   "cell_type": "code",
   "execution_count": 7,
   "metadata": {},
   "outputs": [],
   "source": [
    "from konlpy.tag import Okt\n",
    "okt = Okt()"
   ]
  },
  {
   "cell_type": "code",
   "execution_count": 8,
   "metadata": {},
   "outputs": [
    {
     "name": "stderr",
     "output_type": "stream",
     "text": [
      "C:\\Users\\Public\\Anaconda3\\lib\\site-packages\\ipykernel_launcher.py:5: SettingWithCopyWarning: \n",
      "A value is trying to be set on a copy of a slice from a DataFrame\n",
      "\n",
      "See the caveats in the documentation: https://pandas.pydata.org/pandas-docs/stable/user_guide/indexing.html#returning-a-view-versus-a-copy\n",
      "  \"\"\"\n",
      "C:\\Users\\Public\\Anaconda3\\lib\\site-packages\\pandas\\core\\indexing.py:671: SettingWithCopyWarning: \n",
      "A value is trying to be set on a copy of a slice from a DataFrame\n",
      "\n",
      "See the caveats in the documentation: https://pandas.pydata.org/pandas-docs/stable/user_guide/indexing.html#returning-a-view-versus-a-copy\n",
      "  self._setitem_with_indexer(indexer, value)\n"
     ]
    }
   ],
   "source": [
    "# okt pos tagger로 형태소 분석\n",
    "df[\"morphs\"] = np.nan\n",
    "for i in range(len(df)):\n",
    "    try:\n",
    "        df[\"morphs\"][i] = okt.pos(df[\"lyrics\"][i])\n",
    "    except:\n",
    "        print(i, df[\"lyrics\"][i])\n",
    "        break"
   ]
  },
  {
   "cell_type": "code",
   "execution_count": 9,
   "metadata": {},
   "outputs": [],
   "source": [
    "# 불용어 제거\n",
    "stopwords = ['의','가','이','은','들','는','좀','잘','걍','과','도','를','으로','자','에','와','한','하다']\n",
    "for i in range(len(df)):\n",
    "    for word in df[\"morphs\"][i]:\n",
    "        if word[1] in [\"Punctuation\", \"Josa\", \"Suffix\", \"Number\", \"PreEomi\", \"Conjunction\", \"Determiner\", \"Eomi\", \"Unknown\"] or word[0] in stopwords:\n",
    "            idx = df[\"morphs\"][i].index(word)\n",
    "            del df[\"morphs\"][i][idx]"
   ]
  },
  {
   "cell_type": "code",
   "execution_count": 10,
   "metadata": {},
   "outputs": [
    {
     "data": {
      "text/plain": [
       "0       [(I, Alpha), (don, Alpha), (t, Alpha), (know, ...\n",
       "1       [(장난, Noun), (난너, Noun), (다가갔지만, Verb), (너, No...\n",
       "2       [(sometimes, Alpha), (i, Alpha), (just, Alpha)...\n",
       "3       [(I, Alpha), (woke, Alpha), (up, Alpha), (in, ...\n",
       "4       [(꼬불꼬불, Adverb), (꼬여진, Adjective), (길이, Noun),...\n",
       "                              ...                        \n",
       "2467    [(여기, Noun), (만족하기엔, Adjective), (아직, Adverb),...\n",
       "2468    [(지루한, Adjective), (일상, Noun), (속, Noun), (조금씩...\n",
       "2469    [(또, Noun), (몇, Noun), (시간, Noun), (네, Noun), ...\n",
       "2470    [(아무런, Adjective), (말, Noun), (하지, Verb), (마, ...\n",
       "2471    [(영원한, Adjective), (건, Noun), (없다던, Adjective)...\n",
       "Name: morphs, Length: 2472, dtype: object"
      ]
     },
     "execution_count": 10,
     "metadata": {},
     "output_type": "execute_result"
    }
   ],
   "source": [
    "df[\"morphs\"]"
   ]
  },
  {
   "cell_type": "code",
   "execution_count": 250,
   "metadata": {},
   "outputs": [],
   "source": [
    "# csv 파일 저장\n",
    "df.to_csv(\"song_data_pos.csv\")"
   ]
  },
  {
   "cell_type": "code",
   "execution_count": 2,
   "metadata": {},
   "outputs": [],
   "source": [
    "# csv 파일 불러오기\n",
    "# df = pd.read_csv(\"song_data_pos.csv\")"
   ]
  },
  {
   "cell_type": "markdown",
   "metadata": {},
   "source": [
    "## tf-idf, 코사인 유사도 기반하여 유사한 노래 찾기"
   ]
  },
  {
   "cell_type": "code",
   "execution_count": 13,
   "metadata": {},
   "outputs": [
    {
     "name": "stderr",
     "output_type": "stream",
     "text": [
      "C:\\Users\\Public\\Anaconda3\\lib\\site-packages\\ipykernel_launcher.py:3: SettingWithCopyWarning: \n",
      "A value is trying to be set on a copy of a slice from a DataFrame\n",
      "\n",
      "See the caveats in the documentation: https://pandas.pydata.org/pandas-docs/stable/user_guide/indexing.html#returning-a-view-versus-a-copy\n",
      "  This is separate from the ipykernel package so we can avoid doing imports until\n"
     ]
    }
   ],
   "source": [
    "# tf-idf를 위한 임시 열 만들기\n",
    "df[\"tmp_text\"] = np.nan\n",
    "for i in range(len(df)):\n",
    "    df[\"tmp_text\"][i] = \" \".join([word[0] for word in df[\"morphs\"][i]])"
   ]
  },
  {
   "cell_type": "code",
   "execution_count": 33,
   "metadata": {},
   "outputs": [],
   "source": [
    "# 같은 노래 이름 제거(중복 행 제거)\n",
    "df = df.drop_duplicates([\"song_name\"])"
   ]
  },
  {
   "cell_type": "code",
   "execution_count": 34,
   "metadata": {},
   "outputs": [
    {
     "name": "stdout",
     "output_type": "stream",
     "text": [
      "(1968, 38444)\n"
     ]
    }
   ],
   "source": [
    "from sklearn.feature_extraction.text import TfidfVectorizer\n",
    "tfidf = TfidfVectorizer(stop_words='english')\n",
    "tfidf_matrix = tfidf.fit_transform(df['tmp_text'])\n",
    "# 가사 데이터에 대해서 tf-idf 수행\n",
    "print(tfidf_matrix.shape)"
   ]
  },
  {
   "cell_type": "code",
   "execution_count": 35,
   "metadata": {},
   "outputs": [],
   "source": [
    "from sklearn.metrics.pairwise import linear_kernel\n",
    "cosine_sim = linear_kernel(tfidf_matrix, tfidf_matrix)"
   ]
  },
  {
   "cell_type": "code",
   "execution_count": 43,
   "metadata": {},
   "outputs": [
    {
     "name": "stdout",
     "output_type": "stream",
     "text": [
      "song_name\n",
      "Blood Stream                             0\n",
      "장난                                       1\n",
      "Get Away (Prod. by Minit) (Feat. 김승민)    2\n",
      "Kid Rock                                 3\n",
      "SUPADUPA (천천히 해봐)                        4\n",
      "dtype: int64\n"
     ]
    }
   ],
   "source": [
    "# 노래 제목 - index 찾기\n",
    "indices = pd.Series(df.index, index=df['song_name']).drop_duplicates()\n",
    "print(indices.head())"
   ]
  },
  {
   "cell_type": "code",
   "execution_count": 44,
   "metadata": {},
   "outputs": [
    {
     "name": "stdout",
     "output_type": "stream",
     "text": [
      "4\n"
     ]
    }
   ],
   "source": [
    "idx = indices['SUPADUPA (천천히 해봐)']\n",
    "print(idx)"
   ]
  },
  {
   "cell_type": "code",
   "execution_count": 63,
   "metadata": {},
   "outputs": [
    {
     "data": {
      "text/html": [
       "<div>\n",
       "<style scoped>\n",
       "    .dataframe tbody tr th:only-of-type {\n",
       "        vertical-align: middle;\n",
       "    }\n",
       "\n",
       "    .dataframe tbody tr th {\n",
       "        vertical-align: top;\n",
       "    }\n",
       "\n",
       "    .dataframe thead th {\n",
       "        text-align: right;\n",
       "    }\n",
       "</style>\n",
       "<table border=\"1\" class=\"dataframe\">\n",
       "  <thead>\n",
       "    <tr style=\"text-align: right;\">\n",
       "      <th></th>\n",
       "      <th>song_name</th>\n",
       "      <th>artist</th>\n",
       "      <th>album</th>\n",
       "      <th>date</th>\n",
       "      <th>genre</th>\n",
       "    </tr>\n",
       "  </thead>\n",
       "  <tbody>\n",
       "    <tr>\n",
       "      <th>2041</th>\n",
       "      <td>천천히 (Feat. Young Ho, UMiN(유민))</td>\n",
       "      <td>밴키드 (VANKiD)</td>\n",
       "      <td>천천히</td>\n",
       "      <td>2020.05.19</td>\n",
       "      <td>랩/힙합</td>\n",
       "    </tr>\n",
       "    <tr>\n",
       "      <th>42</th>\n",
       "      <td>오늘은 (Feat. 딘딘)</td>\n",
       "      <td>에이민 (amin)</td>\n",
       "      <td>오늘은</td>\n",
       "      <td>2020.08.15</td>\n",
       "      <td>R&amp;B/Soul</td>\n",
       "    </tr>\n",
       "    <tr>\n",
       "      <th>2468</th>\n",
       "      <td>설레임</td>\n",
       "      <td>허지영</td>\n",
       "      <td>설레임</td>\n",
       "      <td>2020.04.29</td>\n",
       "      <td>인디음악, 포크/블루스</td>\n",
       "    </tr>\n",
       "    <tr>\n",
       "      <th>1984</th>\n",
       "      <td>아주 천천히 (Slowly) (Prod. Creed)</td>\n",
       "      <td>키드킹 (Kidd King)</td>\n",
       "      <td>아주 천천히 (Slowly)</td>\n",
       "      <td>2020.05.22</td>\n",
       "      <td>랩/힙합</td>\n",
       "    </tr>\n",
       "    <tr>\n",
       "      <th>589</th>\n",
       "      <td>놀러</td>\n",
       "      <td>The FunCity (펀시티)</td>\n",
       "      <td>놀러</td>\n",
       "      <td>2020.07.24</td>\n",
       "      <td>인디음악, 록/메탈</td>\n",
       "    </tr>\n",
       "    <tr>\n",
       "      <th>40</th>\n",
       "      <td>우리집</td>\n",
       "      <td>So!YoON!(황소윤)</td>\n",
       "      <td>[Vol.64] 유희열의 스케치북 : 서른아홉 번째 목소리 '유스케 X So!YoO...</td>\n",
       "      <td>2020.08.15</td>\n",
       "      <td>록/메탈</td>\n",
       "    </tr>\n",
       "    <tr>\n",
       "      <th>2084</th>\n",
       "      <td>깊은 밤 너와 나</td>\n",
       "      <td>109</td>\n",
       "      <td>깊은 밤 너와 나</td>\n",
       "      <td>2020.05.17</td>\n",
       "      <td>인디음악, 포크/블루스</td>\n",
       "    </tr>\n",
       "    <tr>\n",
       "      <th>1481</th>\n",
       "      <td>Favorite (Feat. punchnello, SOLE)</td>\n",
       "      <td>그리즐리 (Grizzly)</td>\n",
       "      <td>Favorite</td>\n",
       "      <td>2020.06.14</td>\n",
       "      <td>R&amp;B/Soul, 인디음악</td>\n",
       "    </tr>\n",
       "    <tr>\n",
       "      <th>1249</th>\n",
       "      <td>Rescue me</td>\n",
       "      <td>프롬</td>\n",
       "      <td>Rescue me</td>\n",
       "      <td>2020.06.24</td>\n",
       "      <td>인디음악, 록/메탈</td>\n",
       "    </tr>\n",
       "    <tr>\n",
       "      <th>389</th>\n",
       "      <td>LAD</td>\n",
       "      <td>nokdu</td>\n",
       "      <td>Mersey</td>\n",
       "      <td>2020.07.31</td>\n",
       "      <td>록/메탈</td>\n",
       "    </tr>\n",
       "    <tr>\n",
       "      <th>1120</th>\n",
       "      <td>보라빛 밤 (pporappippam)</td>\n",
       "      <td>선미</td>\n",
       "      <td>보라빛 밤 (pporappippam)</td>\n",
       "      <td>2020.06.29</td>\n",
       "      <td>댄스</td>\n",
       "    </tr>\n",
       "    <tr>\n",
       "      <th>1392</th>\n",
       "      <td>딴놈 다 거기서 거기</td>\n",
       "      <td>미스터T</td>\n",
       "      <td>딴놈 다 거기서 거기</td>\n",
       "      <td>2020.06.18</td>\n",
       "      <td>성인가요</td>\n",
       "    </tr>\n",
       "    <tr>\n",
       "      <th>2046</th>\n",
       "      <td>꽃길한번 걸어보자</td>\n",
       "      <td>김보경 (NEON)</td>\n",
       "      <td>꽃길한번 걸어보자</td>\n",
       "      <td>2020.05.19</td>\n",
       "      <td>발라드</td>\n",
       "    </tr>\n",
       "    <tr>\n",
       "      <th>1482</th>\n",
       "      <td>삶은 요리</td>\n",
       "      <td>GOTCHA !</td>\n",
       "      <td>야식남녀 OST Part.5</td>\n",
       "      <td>2020.06.15</td>\n",
       "      <td>록/메탈, 국내드라마</td>\n",
       "    </tr>\n",
       "    <tr>\n",
       "      <th>583</th>\n",
       "      <td>조금씩 안녕</td>\n",
       "      <td>신아린</td>\n",
       "      <td>만찢남녀 Part.2</td>\n",
       "      <td>2020.07.23</td>\n",
       "      <td>록/메탈, 국내드라마</td>\n",
       "    </tr>\n",
       "    <tr>\n",
       "      <th>1375</th>\n",
       "      <td>warm</td>\n",
       "      <td>정기고</td>\n",
       "      <td>warm</td>\n",
       "      <td>2020.06.18</td>\n",
       "      <td>R&amp;B/Soul</td>\n",
       "    </tr>\n",
       "    <tr>\n",
       "      <th>71</th>\n",
       "      <td>그 여름 (From 쿨 썸머 프로젝트)</td>\n",
       "      <td>김남주, 라비 (RAVI), 강승식</td>\n",
       "      <td>그 여름 (From 쿨 썸머 프로젝트)</td>\n",
       "      <td>2020.08.14</td>\n",
       "      <td>댄스</td>\n",
       "    </tr>\n",
       "    <tr>\n",
       "      <th>1876</th>\n",
       "      <td>루프탑</td>\n",
       "      <td>가을방학</td>\n",
       "      <td>루프탑</td>\n",
       "      <td>2020.05.27</td>\n",
       "      <td>발라드, 인디음악</td>\n",
       "    </tr>\n",
       "    <tr>\n",
       "      <th>1655</th>\n",
       "      <td>Takedown (Feat.부현석)</td>\n",
       "      <td>홍차 (HONGCHA)</td>\n",
       "      <td>번외수사 OST Part.6</td>\n",
       "      <td>2020.06.06</td>\n",
       "      <td>록/메탈, 국내드라마</td>\n",
       "    </tr>\n",
       "  </tbody>\n",
       "</table>\n",
       "</div>"
      ],
      "text/plain": [
       "                              song_name               artist  \\\n",
       "2041     천천히 (Feat. Young Ho, UMiN(유민))         밴키드 (VANKiD)   \n",
       "42                       오늘은 (Feat. 딘딘)           에이민 (amin)   \n",
       "2468                                설레임                  허지영   \n",
       "1984      아주 천천히 (Slowly) (Prod. Creed)      키드킹 (Kidd King)   \n",
       "589                                  놀러    The FunCity (펀시티)   \n",
       "40                                  우리집        So!YoON!(황소윤)   \n",
       "2084                          깊은 밤 너와 나                  109   \n",
       "1481  Favorite (Feat. punchnello, SOLE)       그리즐리 (Grizzly)   \n",
       "1249                          Rescue me                   프롬   \n",
       "389                                 LAD                nokdu   \n",
       "1120               보라빛 밤 (pporappippam)                   선미   \n",
       "1392                        딴놈 다 거기서 거기                 미스터T   \n",
       "2046                          꽃길한번 걸어보자           김보경 (NEON)   \n",
       "1482                              삶은 요리             GOTCHA !   \n",
       "583                              조금씩 안녕                  신아린   \n",
       "1375                               warm                  정기고   \n",
       "71                그 여름 (From 쿨 썸머 프로젝트)  김남주, 라비 (RAVI), 강승식   \n",
       "1876                                루프탑                 가을방학   \n",
       "1655                Takedown (Feat.부현석)         홍차 (HONGCHA)   \n",
       "\n",
       "                                                  album        date  \\\n",
       "2041                                                천천히  2020.05.19   \n",
       "42                                                  오늘은  2020.08.15   \n",
       "2468                                                설레임  2020.04.29   \n",
       "1984                                    아주 천천히 (Slowly)  2020.05.22   \n",
       "589                                                  놀러  2020.07.24   \n",
       "40    [Vol.64] 유희열의 스케치북 : 서른아홉 번째 목소리 '유스케 X So!YoO...  2020.08.15   \n",
       "2084                                          깊은 밤 너와 나  2020.05.17   \n",
       "1481                                           Favorite  2020.06.14   \n",
       "1249                                          Rescue me  2020.06.24   \n",
       "389                                              Mersey  2020.07.31   \n",
       "1120                               보라빛 밤 (pporappippam)  2020.06.29   \n",
       "1392                                        딴놈 다 거기서 거기  2020.06.18   \n",
       "2046                                          꽃길한번 걸어보자  2020.05.19   \n",
       "1482                                    야식남녀 OST Part.5  2020.06.15   \n",
       "583                                         만찢남녀 Part.2  2020.07.23   \n",
       "1375                                               warm  2020.06.18   \n",
       "71                                그 여름 (From 쿨 썸머 프로젝트)  2020.08.14   \n",
       "1876                                                루프탑  2020.05.27   \n",
       "1655                                    번외수사 OST Part.6  2020.06.06   \n",
       "\n",
       "               genre  \n",
       "2041            랩/힙합  \n",
       "42          R&B/Soul  \n",
       "2468    인디음악, 포크/블루스  \n",
       "1984            랩/힙합  \n",
       "589       인디음악, 록/메탈  \n",
       "40              록/메탈  \n",
       "2084    인디음악, 포크/블루스  \n",
       "1481  R&B/Soul, 인디음악  \n",
       "1249      인디음악, 록/메탈  \n",
       "389             록/메탈  \n",
       "1120              댄스  \n",
       "1392            성인가요  \n",
       "2046             발라드  \n",
       "1482     록/메탈, 국내드라마  \n",
       "583      록/메탈, 국내드라마  \n",
       "1375        R&B/Soul  \n",
       "71                댄스  \n",
       "1876       발라드, 인디음악  \n",
       "1655     록/메탈, 국내드라마  "
      ]
     },
     "execution_count": 63,
     "metadata": {},
     "output_type": "execute_result"
    }
   ],
   "source": [
    "# 'SUPADUPA (천천히 해봐)' 노래와 유사도가 높은 순으로 나열\n",
    "sim_scores = list(enumerate(cosine_sim[4]))\n",
    "sim_scores = sorted(sim_scores, key=lambda x: x[1], reverse=True)\n",
    "sim_scores = sim_scores[1:20]\n",
    "indices = [i[0] for i in sim_scores]\n",
    "df.drop(columns = [\"lyrics\", \"Unnamed: 0\", \"morphs\", \"tmp_text\"]).iloc[indices]"
   ]
  },
  {
   "cell_type": "code",
   "execution_count": null,
   "metadata": {},
   "outputs": [],
   "source": []
  }
 ],
 "metadata": {
  "kernelspec": {
   "display_name": "Python 3",
   "language": "python",
   "name": "python3"
  },
  "language_info": {
   "codemirror_mode": {
    "name": "ipython",
    "version": 3
   },
   "file_extension": ".py",
   "mimetype": "text/x-python",
   "name": "python",
   "nbconvert_exporter": "python",
   "pygments_lexer": "ipython3",
   "version": "3.7.7"
  }
 },
 "nbformat": 4,
 "nbformat_minor": 4
}
